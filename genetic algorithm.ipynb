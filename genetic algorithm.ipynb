{
 "cells": [
  {
   "cell_type": "code",
   "execution_count": 1,
   "metadata": {},
   "outputs": [],
   "source": [
    "import numpy as np\n",
    "import matplotlib.pyplot as plt\n"
   ]
  },
  {
   "cell_type": "markdown",
   "metadata": {},
   "source": [
    "# v a p r o w a v e"
   ]
  },
  {
   "cell_type": "markdown",
   "metadata": {},
   "source": [
    "## Задание:\n",
    "\n",
    "Найти с помощью генетического алгоритма особь, гены которой соответствуют, в формате RGB, фиолетовому цвету (96, 96, 159)."
   ]
  },
  {
   "cell_type": "markdown",
   "metadata": {},
   "source": [
    "Канонический генетический алгоритм:\n",
    "- целочисленное кодирование\n",
    "- все хромосомы в популяции имеют одинаковую длину\n",
    "- постоянный размер популяции\n",
    "- рулеточная селекция\n",
    "- одноточечный оператор кроссинговера\n",
    "- новое поколение формируется только из особей-потомков"
   ]
  },
  {
   "cell_type": "markdown",
   "metadata": {},
   "source": [
    "### общая схема:\n",
    "1. формирование популяции\n",
    "2. оценивание популяции\n",
    "3. селекция\n",
    "4. скрещивание\n",
    "5. мутация\n",
    "6. если норм, то конец, иначе идем на пункт 2"
   ]
  },
  {
   "cell_type": "code",
   "execution_count": 259,
   "metadata": {},
   "outputs": [],
   "source": [
    "class Individ():\n",
    "    \n",
    "    def __init__(self, param_len=1):\n",
    "        # целочисленное кодирование от 0 до 255\n",
    "        self.params = np.random.randint(255, size=param_len, dtype=np.uint8)\n",
    "        self.chromosome_len = 8  # 8 bit length of chromosomes\n",
    "        \n",
    "    def loss(self, target):\n",
    "        \"\"\" MSE loss \"\"\"\n",
    "        mse = (np.square(self.params/255 - target/255)).mean(axis=0)\n",
    "        return mse\n",
    "    \n",
    "    def crossbreeding(self, individ):\n",
    "        \"\"\" Crossbreeding by single point crossover operator.\"\"\"\n",
    "        childs = [Individ(param_len=len(self.params)), \n",
    "                  Individ(param_len=len(self.params))]\n",
    "        for i in range(len(self.params)):\n",
    "            cross_point = np.random.randint(self.chromosome_len)\n",
    "            \n",
    "            xx = np.packbits(np.concatenate((np.unpackbits(self.params[i])[:cross_point],\n",
    "                                             np.unpackbits(individ.params[i])[cross_point:])))\n",
    "            \n",
    "            xy = np.packbits(np.concatenate((np.unpackbits(self.params[i])[cross_point:],\n",
    "                                             np.unpackbits(individ.params[i])[:cross_point])))\n",
    "            childs[0].params[i] = xx\n",
    "            childs[1].params[i] = xy\n",
    "        return childs\n",
    "    \n",
    "    def mutate(self, prob_mutate):\n",
    "        \"\"\"Mutations.\"\"\"\n",
    "        for i in range(len(self.params)):\n",
    "            chromosomes = np.unpackbits(self.params[i])\n",
    "#             print(\"before mutations \", chromosomes)\n",
    "            for j in range(len(chromosomes)):\n",
    "                r = np.random.rand()\n",
    "                if r >= prob_mutate:\n",
    "                    chromosomes[j] = np.bitwise_and(np.invert(chromosomes[j]), 1)\n",
    "#             print(\"after mutations \", chromosomes)\n",
    "                \n",
    "        \n",
    "    "
   ]
  },
  {
   "cell_type": "code",
   "execution_count": 260,
   "metadata": {},
   "outputs": [],
   "source": [
    "np.random.seed(100) # повторяемость эксперимента\n",
    "\n",
    "def make_population(individ_count, param_len):\n",
    "    \"\"\" Create population.\"\"\"\n",
    "    population = []\n",
    "    for i in range(individ_count):\n",
    "        population.append(Individ(param_len=param_len))\n",
    "    return population\n",
    "\n",
    "def sort_population(population, target):\n",
    "    \"\"\"Method for Truncation Selection.\"\"\"\n",
    "    return sorted(population, key=lambda individ: individ.loss(target))\n",
    "\n",
    "def roulette_selection(population, target, individs_num=None):\n",
    "    \"\"\"Roulette Selection in Genetic Algorithms.\"\"\"\n",
    "    total_fitness = 0\n",
    "    for individ in population:\n",
    "        total_fitness += 1/individ.loss(target)\n",
    "        \n",
    "    rel_fitnesses = [1/individ.loss(target) / total_fitness for individ in population]\n",
    "    # Generate probability intervals for each individual\n",
    "    probs = [sum(rel_fitnesses[:i + 1]) for i in range(len(rel_fitnesses))]\n",
    "    \n",
    "    new_population = []\n",
    "    \n",
    "    if individs_num is None:\n",
    "        individs_num = len(population)\n",
    "        \n",
    "    for individ in range(individs_num):\n",
    "        r = np.random.rand()\n",
    "        for i, individ in enumerate(population):\n",
    "            if r <= probs[i]:\n",
    "                new_population.append(individ)\n",
    "                break\n",
    "    return new_population\n",
    "\n",
    "\n",
    "def crossbreed_population(population, prob_cross):\n",
    "    \"\"\"Crossbreeding of individs in population.\"\"\"\n",
    "    new_population = []\n",
    "    for k in range(len(population) // 2):\n",
    "        i = np.random.randint(len(population))\n",
    "        j = np.random.randint(len(population))\n",
    "        if np.random.rand() > prob_cross:\n",
    "            new_population += (population[i].crossbreeding(population[j]))\n",
    "        else:\n",
    "            new_population.append(population[i])\n",
    "            new_population.append(population[j])\n",
    "    return new_population\n",
    "            \n",
    "def mutate_population(population, prob_mutate):\n",
    "    \"\"\"Mutations of individs in population.\"\"\"\n",
    "    for individ in population:\n",
    "        individ.mutate(prob_mutate=prob_mutate)\n",
    "            "
   ]
  },
  {
   "cell_type": "code",
   "execution_count": 261,
   "metadata": {
    "scrolled": true
   },
   "outputs": [
    {
     "name": "stdout",
     "output_type": "stream",
     "text": [
      " Iteration:  0  loss:  0.013728053312828397\n",
      " Iteration:  10  loss:  0.0001947968729975654\n",
      " Iteration:  20  loss:  0.0001947968729975654\n",
      " Iteration:  30  loss:  0.0001947968729975654\n",
      " Iteration:  40  loss:  0.0001947968729975654\n",
      " Iteration:  50  loss:  0.0001947968729975654\n",
      " Iteration:  60  loss:  0.0001947968729975654\n",
      " Iteration:  70  loss:  0.0001947968729975654\n",
      " Iteration:  80  loss:  0.0001947968729975654\n",
      " Iteration:  90  loss:  0.0001947968729975654\n"
     ]
    },
    {
     "data": {
      "image/png": "[encoded data removed]",
      "text/plain": [
       "<Figure size 432x288 with 1 Axes>"
      ]
     },
     "metadata": {
      "needs_background": "light"
     },
     "output_type": "display_data"
    },
    {
     "name": "stdout",
     "output_type": "stream",
     "text": [
      "top individ params:  [ 95  95 165]\n"
     ]
    }
   ],
   "source": [
    "individ_count = 20 # количество особей\n",
    "param_len = 3 # количество каналов\n",
    "prob_cross = 0.2 # вероятность скрещивания\n",
    "prob_mutate = 0.01 # вероятность мутации\n",
    "\n",
    "target = np.array([96,96,159], dtype=np.uint8) # целевое значение\n",
    "\n",
    "# формирование популяции\n",
    "population = make_population(individ_count, param_len)\n",
    "loss = []\n",
    "for i in range(100):\n",
    "    # селекция\n",
    "    population = roulette_selection(population, target)\n",
    "    population = sort_population(population, target)\n",
    "    # скрещивание\n",
    "    population = crossbreed_population(population, prob_cross)\n",
    "    # мутация\n",
    "    mutate_population(population, prob_mutate)\n",
    "    \n",
    "    top_individ = sort_population(population, target)[0]\n",
    "    loss.append(top_individ.loss(target))\n",
    "    if i % 10 == 0:\n",
    "        print(\" Iteration: \", i, \" loss: \", loss[-1])\n",
    "    \n",
    "plt.plot(loss)\n",
    "plt.show()\n",
    "print(\"top individ params: \", top_individ.params)"
   ]
  }
 ],
 "metadata": {
  "kernelspec": {
   "display_name": "Python 3",
   "language": "python",
   "name": "python3"
  },
  "language_info": {
   "codemirror_mode": {
    "name": "ipython",
    "version": 3
   },
   "file_extension": ".py",
   "mimetype": "text/x-python",
   "name": "python",
   "nbconvert_exporter": "python",
   "pygments_lexer": "ipython3",
   "version": "3.6.6"
  }
 },
 "nbformat": 4,
 "nbformat_minor": 2
}
